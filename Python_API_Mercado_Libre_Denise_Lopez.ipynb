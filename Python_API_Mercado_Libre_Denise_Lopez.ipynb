{
  "nbformat": 4,
  "nbformat_minor": 0,
  "metadata": {
    "colab": {
      "name": "Python API Mercado Libre - Denise Lopez",
      "provenance": [],
      "collapsed_sections": [],
      "authorship_tag": "ABX9TyMmJPVAYo3n8E6SXK/pRnTQ"
    },
    "kernelspec": {
      "name": "python3",
      "display_name": "Python 3"
    },
    "language_info": {
      "name": "python"
    }
  },
  "cells": [
    {
      "cell_type": "code",
      "metadata": {
        "id": "BeKR7VI9gBis"
      },
      "source": [
        "#Import required libraries\n",
        "import requests\n",
        "import pandas as pd\n",
        "import sys"
      ],
      "execution_count": null,
      "outputs": []
    },
    {
      "cell_type": "code",
      "metadata": {
        "id": "pUWB0qs-gVry"
      },
      "source": [
        "#Create a function to flatten nested dictionaries or lists from a json\n",
        "def flatten_json(nested_json, exclude=['']):\n",
        "    out = {}\n",
        "\n",
        "    def flatten(x, name='', exclude=exclude):\n",
        "        if type(x) is dict:\n",
        "            for a in x:\n",
        "                if a not in exclude: flatten(x[a], name + a + '_')\n",
        "        elif type(x) is list:\n",
        "            i = 0\n",
        "            for a in x:\n",
        "                flatten(a, name + str(i) + '_')\n",
        "                i += 1\n",
        "        else:\n",
        "            out[name[:-1]] = x\n",
        "\n",
        "    flatten(nested_json)\n",
        "    return out"
      ],
      "execution_count": null,
      "outputs": []
    },
    {
      "cell_type": "code",
      "metadata": {
        "id": "pB4O2cPXw9lj"
      },
      "source": [
        "#Create a function to request data to a URL and handle errors\n",
        "def getdata(url):\n",
        "  try:\n",
        "    r = requests.get(url)\n",
        "    r.raise_for_status()\n",
        "    return requests.get(url).json()\n",
        "  except requests.exceptions.HTTPError as e:\n",
        "    print (e.response.text)\n",
        "    sys.exit(1)"
      ],
      "execution_count": null,
      "outputs": []
    },
    {
      "cell_type": "code",
      "metadata": {
        "id": "nIz3DLzsxH8Q"
      },
      "source": [
        "#List of key words I want to search in Mercado Libre's API\n",
        "items = ['chromecast', 'apple_tv', 'Amazon_Fire', 'roku']\n",
        "index = 0\n",
        "\n",
        "#Loop through the list of keywords to get data for each keyword and append that data to a Pandas dataframe\n",
        "for item in items:\n",
        "  url = \"https://api.mercadolibre.com/sites/MLA/search?q={0}&limit=50#options\".format(item)\n",
        "  rawdata = getdata(url)\n",
        "  if index == 0:\n",
        "    df = pd.DataFrame([flatten_json(x) for x in rawdata['results']])\n",
        "    df['searched'] = item\n",
        "  else:\n",
        "    df2 = pd.DataFrame([flatten_json(x) for x in rawdata['results']])\n",
        "    df2['searched'] = item\n",
        "    df = pd.concat([df, df2], ignore_index=True)\n",
        "\n",
        "  index += 1"
      ],
      "execution_count": null,
      "outputs": []
    },
    {
      "cell_type": "code",
      "metadata": {
        "colab": {
          "base_uri": "https://localhost:8080/"
        },
        "id": "QFILt1eERpXL",
        "outputId": "91b81c1f-4208-4e5f-d4e9-bbd3cade1d68"
      },
      "source": [
        "#Setting a goal to clean the Pandas dataframe and only keep columns that have more than 20% of its rows populated\n",
        "mingoal = len(df.index) * 0.20"
      ],
      "execution_count": null,
      "outputs": [
        {
          "output_type": "execute_result",
          "data": {
            "text/plain": [
              "40.0"
            ]
          },
          "metadata": {
            "tags": []
          },
          "execution_count": 18
        }
      ]
    },
    {
      "cell_type": "code",
      "metadata": {
        "id": "C8QEy5lGQO--"
      },
      "source": [
        "#Clean the dataframe using the goal\n",
        "for col in df.columns:\n",
        "  if df[col].notnull().sum() <= mingoal:\n",
        "    df.drop(col,inplace=True,axis=1)\n",
        "  \n",
        "# print(df[col].notnull().sum(), col)"
      ],
      "execution_count": null,
      "outputs": []
    },
    {
      "cell_type": "code",
      "metadata": {
        "id": "sqpKuklA97xz"
      },
      "source": [
        "#Create a .csv file from the dataframe\n",
        "df.to_csv('ML_data.csv')"
      ],
      "execution_count": null,
      "outputs": []
    }
  ]
}